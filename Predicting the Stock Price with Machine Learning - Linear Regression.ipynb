{
  "nbformat": 4,
  "nbformat_minor": 0,
  "metadata": {
    "colab": {
      "name": "賴冠霖_第六次作業.ipynb",
      "provenance": []
    },
    "kernelspec": {
      "name": "python3",
      "display_name": "Python 3"
    },
    "language_info": {
      "name": "python"
    }
  },
  "cells": [
    {
      "cell_type": "code",
      "execution_count": 94,
      "metadata": {
        "id": "fs_t15yBqm_4"
      },
      "outputs": [],
      "source": [
        "%matplotlib inline  \n",
        "import pandas as pd #data manipulation\n",
        "import numpy as np #numerical calculations\n",
        "import matplotlib.pyplot as plt #plot\n",
        "import yfinance as yf  #幫我們抓取分析資料\n",
        "import datetime #時間套件\n",
        "from sklearn.linear_model import LinearRegression\n",
        "import seaborn as sns\n",
        "pd.options.mode.chained_assignment = None  # default='warn' \n",
        "#!pip install yfinance  \n",
        "#!pip install datetime  "
      ]
    },
    {
      "cell_type": "markdown",
      "source": [
        "##自由發揮題：應用線性回歸預測股票價格\n",
        "\n",
        "* 目的：希望使用線性迴歸模型，對股票做簡單的趨勢預測！\n",
        "\n",
        "* 標的：台積電(2330.TW)，日資料\n",
        "\n",
        "* 資料區間：2020/01/01-2022/01/01  \n",
        "* 資料來源：Yahoo Finance\n",
        "\n",
        "* 撰寫思路：  \n",
        "第一步，運用Yahoo Finance抓取股價資料。  \n",
        "第二步，對股票資料做探索式資料分析(EDA)。  \n",
        "第三步，使用sklearn套件來做線性迴歸模型的訓練和預測\n"
      ],
      "metadata": {
        "id": "bQhxqUewq6nW"
      }
    },
    {
      "cell_type": "markdown",
      "source": [
        "### 第一步，運用Yahoo Finance抓取股價資料。"
      ],
      "metadata": {
        "id": "SebEB6_iBqeI"
      }
    },
    {
      "cell_type": "code",
      "source": [
        "#get data\n",
        "tick = '2330.TW'\n",
        "stock = yf.download(tick,\n",
        "                start=datetime.datetime(2020, 1, 1),\n",
        "                end=datetime.datetime(2022, 1, 1))\n",
        "stock.dropna(inplace=True)"
      ],
      "metadata": {
        "colab": {
          "base_uri": "https://localhost:8080/"
        },
        "id": "_oRIqbkUBixw",
        "outputId": "c2fea951-c4c6-4a51-e54a-f8631f8bd430"
      },
      "execution_count": 90,
      "outputs": [
        {
          "output_type": "stream",
          "name": "stdout",
          "text": [
            "\r[*********************100%***********************]  1 of 1 completed\n"
          ]
        }
      ]
    },
    {
      "cell_type": "markdown",
      "source": [
        "### 第二步，對股票資料做探索式資料分析(EDA)。"
      ],
      "metadata": {
        "id": "hg4PnFbkB2QL"
      }
    },
    {
      "cell_type": "code",
      "source": [
        "stock.head() #前五筆資料"
      ],
      "metadata": {
        "colab": {
          "base_uri": "https://localhost:8080/",
          "height": 238
        },
        "id": "zpK9DVs-wYah",
        "outputId": "8420937c-9976-4f8e-9b41-47fec997aa99"
      },
      "execution_count": 55,
      "outputs": [
        {
          "output_type": "execute_result",
          "data": {
            "text/plain": [
              "             Open   High    Low  Close   Adj Close    Volume\n",
              "Date                                                        \n",
              "2020-01-02  332.5  339.0  332.5  339.0  320.628021  31754120\n",
              "2020-01-03  344.0  345.0  335.5  339.5  321.100983  41811268\n",
              "2020-01-06  333.0  334.5  332.0  332.0  314.007477  45343057\n",
              "2020-01-07  332.5  333.0  326.5  329.5  311.642883  50879181\n",
              "2020-01-08  325.0  333.0  325.0  329.5  311.642883  37567748"
            ],
            "text/html": [
              "\n",
              "  <div id=\"df-6a04d19d-71be-4ebf-8120-7c7035fe4b04\">\n",
              "    <div class=\"colab-df-container\">\n",
              "      <div>\n",
              "<style scoped>\n",
              "    .dataframe tbody tr th:only-of-type {\n",
              "        vertical-align: middle;\n",
              "    }\n",
              "\n",
              "    .dataframe tbody tr th {\n",
              "        vertical-align: top;\n",
              "    }\n",
              "\n",
              "    .dataframe thead th {\n",
              "        text-align: right;\n",
              "    }\n",
              "</style>\n",
              "<table border=\"1\" class=\"dataframe\">\n",
              "  <thead>\n",
              "    <tr style=\"text-align: right;\">\n",
              "      <th></th>\n",
              "      <th>Open</th>\n",
              "      <th>High</th>\n",
              "      <th>Low</th>\n",
              "      <th>Close</th>\n",
              "      <th>Adj Close</th>\n",
              "      <th>Volume</th>\n",
              "    </tr>\n",
              "    <tr>\n",
              "      <th>Date</th>\n",
              "      <th></th>\n",
              "      <th></th>\n",
              "      <th></th>\n",
              "      <th></th>\n",
              "      <th></th>\n",
              "      <th></th>\n",
              "    </tr>\n",
              "  </thead>\n",
              "  <tbody>\n",
              "    <tr>\n",
              "      <th>2020-01-02</th>\n",
              "      <td>332.5</td>\n",
              "      <td>339.0</td>\n",
              "      <td>332.5</td>\n",
              "      <td>339.0</td>\n",
              "      <td>320.628021</td>\n",
              "      <td>31754120</td>\n",
              "    </tr>\n",
              "    <tr>\n",
              "      <th>2020-01-03</th>\n",
              "      <td>344.0</td>\n",
              "      <td>345.0</td>\n",
              "      <td>335.5</td>\n",
              "      <td>339.5</td>\n",
              "      <td>321.100983</td>\n",
              "      <td>41811268</td>\n",
              "    </tr>\n",
              "    <tr>\n",
              "      <th>2020-01-06</th>\n",
              "      <td>333.0</td>\n",
              "      <td>334.5</td>\n",
              "      <td>332.0</td>\n",
              "      <td>332.0</td>\n",
              "      <td>314.007477</td>\n",
              "      <td>45343057</td>\n",
              "    </tr>\n",
              "    <tr>\n",
              "      <th>2020-01-07</th>\n",
              "      <td>332.5</td>\n",
              "      <td>333.0</td>\n",
              "      <td>326.5</td>\n",
              "      <td>329.5</td>\n",
              "      <td>311.642883</td>\n",
              "      <td>50879181</td>\n",
              "    </tr>\n",
              "    <tr>\n",
              "      <th>2020-01-08</th>\n",
              "      <td>325.0</td>\n",
              "      <td>333.0</td>\n",
              "      <td>325.0</td>\n",
              "      <td>329.5</td>\n",
              "      <td>311.642883</td>\n",
              "      <td>37567748</td>\n",
              "    </tr>\n",
              "  </tbody>\n",
              "</table>\n",
              "</div>\n",
              "      <button class=\"colab-df-convert\" onclick=\"convertToInteractive('df-6a04d19d-71be-4ebf-8120-7c7035fe4b04')\"\n",
              "              title=\"Convert this dataframe to an interactive table.\"\n",
              "              style=\"display:none;\">\n",
              "        \n",
              "  <svg xmlns=\"http://www.w3.org/2000/svg\" height=\"24px\"viewBox=\"0 0 24 24\"\n",
              "       width=\"24px\">\n",
              "    <path d=\"M0 0h24v24H0V0z\" fill=\"none\"/>\n",
              "    <path d=\"M18.56 5.44l.94 2.06.94-2.06 2.06-.94-2.06-.94-.94-2.06-.94 2.06-2.06.94zm-11 1L8.5 8.5l.94-2.06 2.06-.94-2.06-.94L8.5 2.5l-.94 2.06-2.06.94zm10 10l.94 2.06.94-2.06 2.06-.94-2.06-.94-.94-2.06-.94 2.06-2.06.94z\"/><path d=\"M17.41 7.96l-1.37-1.37c-.4-.4-.92-.59-1.43-.59-.52 0-1.04.2-1.43.59L10.3 9.45l-7.72 7.72c-.78.78-.78 2.05 0 2.83L4 21.41c.39.39.9.59 1.41.59.51 0 1.02-.2 1.41-.59l7.78-7.78 2.81-2.81c.8-.78.8-2.07 0-2.86zM5.41 20L4 18.59l7.72-7.72 1.47 1.35L5.41 20z\"/>\n",
              "  </svg>\n",
              "      </button>\n",
              "      \n",
              "  <style>\n",
              "    .colab-df-container {\n",
              "      display:flex;\n",
              "      flex-wrap:wrap;\n",
              "      gap: 12px;\n",
              "    }\n",
              "\n",
              "    .colab-df-convert {\n",
              "      background-color: #E8F0FE;\n",
              "      border: none;\n",
              "      border-radius: 50%;\n",
              "      cursor: pointer;\n",
              "      display: none;\n",
              "      fill: #1967D2;\n",
              "      height: 32px;\n",
              "      padding: 0 0 0 0;\n",
              "      width: 32px;\n",
              "    }\n",
              "\n",
              "    .colab-df-convert:hover {\n",
              "      background-color: #E2EBFA;\n",
              "      box-shadow: 0px 1px 2px rgba(60, 64, 67, 0.3), 0px 1px 3px 1px rgba(60, 64, 67, 0.15);\n",
              "      fill: #174EA6;\n",
              "    }\n",
              "\n",
              "    [theme=dark] .colab-df-convert {\n",
              "      background-color: #3B4455;\n",
              "      fill: #D2E3FC;\n",
              "    }\n",
              "\n",
              "    [theme=dark] .colab-df-convert:hover {\n",
              "      background-color: #434B5C;\n",
              "      box-shadow: 0px 1px 3px 1px rgba(0, 0, 0, 0.15);\n",
              "      filter: drop-shadow(0px 1px 2px rgba(0, 0, 0, 0.3));\n",
              "      fill: #FFFFFF;\n",
              "    }\n",
              "  </style>\n",
              "\n",
              "      <script>\n",
              "        const buttonEl =\n",
              "          document.querySelector('#df-6a04d19d-71be-4ebf-8120-7c7035fe4b04 button.colab-df-convert');\n",
              "        buttonEl.style.display =\n",
              "          google.colab.kernel.accessAllowed ? 'block' : 'none';\n",
              "\n",
              "        async function convertToInteractive(key) {\n",
              "          const element = document.querySelector('#df-6a04d19d-71be-4ebf-8120-7c7035fe4b04');\n",
              "          const dataTable =\n",
              "            await google.colab.kernel.invokeFunction('convertToInteractive',\n",
              "                                                     [key], {});\n",
              "          if (!dataTable) return;\n",
              "\n",
              "          const docLinkHtml = 'Like what you see? Visit the ' +\n",
              "            '<a target=\"_blank\" href=https://colab.research.google.com/notebooks/data_table.ipynb>data table notebook</a>'\n",
              "            + ' to learn more about interactive tables.';\n",
              "          element.innerHTML = '';\n",
              "          dataTable['output_type'] = 'display_data';\n",
              "          await google.colab.output.renderOutput(dataTable, element);\n",
              "          const docLink = document.createElement('div');\n",
              "          docLink.innerHTML = docLinkHtml;\n",
              "          element.appendChild(docLink);\n",
              "        }\n",
              "      </script>\n",
              "    </div>\n",
              "  </div>\n",
              "  "
            ]
          },
          "metadata": {},
          "execution_count": 55
        }
      ]
    },
    {
      "cell_type": "code",
      "source": [
        "#累積報酬率 \n",
        "cum_return = pd.DataFrame(stock['Adj Close']).apply(lambda x: (x / x[0]-1)*100)\n",
        "cum_return.columns = [tick]\n",
        "cum_return.plot(figsize=(15,7),grid = True).axhline(y = 0, color = \"black\", lw = 1)"
      ],
      "metadata": {
        "colab": {
          "base_uri": "https://localhost:8080/",
          "height": 441
        },
        "id": "-1tmHrrgB5YH",
        "outputId": "5ae5265b-0820-49ba-c026-3c62a9cf9996"
      },
      "execution_count": 92,
      "outputs": [
        {
          "output_type": "execute_result",
          "data": {
            "text/plain": [
              "<matplotlib.lines.Line2D at 0x7f4d913c5050>"
            ]
          },
          "metadata": {},
          "execution_count": 92
        },
        {
          "output_type": "display_data",
          "data": {
            "text/plain": [
              "<Figure size 1080x504 with 1 Axes>"
            ],
            "image/png": "[encoded data removed]"
          },
          "metadata": {
            "needs_background": "light"
          }
        }
      ]
    },
    {
      "cell_type": "code",
      "source": [
        "##算日報酬率\n",
        "daily_return = pd.DataFrame(stock['Adj Close']).apply(lambda x: (x / x.shift(1))-1)\n",
        "daily_return.columns = ['Daily Return']\n",
        "daily_return.dropna(inplace=True)\n",
        "#畫出日報酬率的機率密度函數圖，了解一下分布情況。\n",
        "plt.figure()  \n",
        "sns.histplot(daily_return,bins = 100,stat='probability')\n",
        "plt.ylabel('Probability density')"
      ],
      "metadata": {
        "colab": {
          "base_uri": "https://localhost:8080/",
          "height": 282
        },
        "id": "1JVNH5XvCxXG",
        "outputId": "0b329388-3dac-4b64-bba5-cc6959af6d62"
      },
      "execution_count": 31,
      "outputs": [
        {
          "output_type": "execute_result",
          "data": {
            "text/plain": [
              "Text(0, 0.5, 'Probability density')"
            ]
          },
          "metadata": {},
          "execution_count": 31
        },
        {
          "output_type": "display_data",
          "data": {
            "text/plain": [
              "<Figure size 432x288 with 1 Axes>"
            ],
            "image/png": "[encoded data removed]"
          },
          "metadata": {
            "needs_background": "light"
          }
        }
      ]
    },
    {
      "cell_type": "code",
      "source": [
        "#基本統計分析 - 日報酬率\n",
        "daily_return.describe() "
      ],
      "metadata": {
        "colab": {
          "base_uri": "https://localhost:8080/",
          "height": 300
        },
        "id": "fZAyAy6QEAyw",
        "outputId": "6afecbc1-cabc-4cf8-eb64-5bd682ca1c6a"
      },
      "execution_count": 32,
      "outputs": [
        {
          "output_type": "execute_result",
          "data": {
            "text/plain": [
              "       Daily Return\n",
              "count    487.000000\n",
              "mean       0.001460\n",
              "std        0.017015\n",
              "min       -0.055556\n",
              "25%       -0.008418\n",
              "50%        0.000000\n",
              "75%        0.011379\n",
              "max        0.099741"
            ],
            "text/html": [
              "\n",
              "  <div id=\"df-c34f2302-9559-4591-83e6-bd94e1de5755\">\n",
              "    <div class=\"colab-df-container\">\n",
              "      <div>\n",
              "<style scoped>\n",
              "    .dataframe tbody tr th:only-of-type {\n",
              "        vertical-align: middle;\n",
              "    }\n",
              "\n",
              "    .dataframe tbody tr th {\n",
              "        vertical-align: top;\n",
              "    }\n",
              "\n",
              "    .dataframe thead th {\n",
              "        text-align: right;\n",
              "    }\n",
              "</style>\n",
              "<table border=\"1\" class=\"dataframe\">\n",
              "  <thead>\n",
              "    <tr style=\"text-align: right;\">\n",
              "      <th></th>\n",
              "      <th>Daily Return</th>\n",
              "    </tr>\n",
              "  </thead>\n",
              "  <tbody>\n",
              "    <tr>\n",
              "      <th>count</th>\n",
              "      <td>487.000000</td>\n",
              "    </tr>\n",
              "    <tr>\n",
              "      <th>mean</th>\n",
              "      <td>0.001460</td>\n",
              "    </tr>\n",
              "    <tr>\n",
              "      <th>std</th>\n",
              "      <td>0.017015</td>\n",
              "    </tr>\n",
              "    <tr>\n",
              "      <th>min</th>\n",
              "      <td>-0.055556</td>\n",
              "    </tr>\n",
              "    <tr>\n",
              "      <th>25%</th>\n",
              "      <td>-0.008418</td>\n",
              "    </tr>\n",
              "    <tr>\n",
              "      <th>50%</th>\n",
              "      <td>0.000000</td>\n",
              "    </tr>\n",
              "    <tr>\n",
              "      <th>75%</th>\n",
              "      <td>0.011379</td>\n",
              "    </tr>\n",
              "    <tr>\n",
              "      <th>max</th>\n",
              "      <td>0.099741</td>\n",
              "    </tr>\n",
              "  </tbody>\n",
              "</table>\n",
              "</div>\n",
              "      <button class=\"colab-df-convert\" onclick=\"convertToInteractive('df-c34f2302-9559-4591-83e6-bd94e1de5755')\"\n",
              "              title=\"Convert this dataframe to an interactive table.\"\n",
              "              style=\"display:none;\">\n",
              "        \n",
              "  <svg xmlns=\"http://www.w3.org/2000/svg\" height=\"24px\"viewBox=\"0 0 24 24\"\n",
              "       width=\"24px\">\n",
              "    <path d=\"M0 0h24v24H0V0z\" fill=\"none\"/>\n",
              "    <path d=\"M18.56 5.44l.94 2.06.94-2.06 2.06-.94-2.06-.94-.94-2.06-.94 2.06-2.06.94zm-11 1L8.5 8.5l.94-2.06 2.06-.94-2.06-.94L8.5 2.5l-.94 2.06-2.06.94zm10 10l.94 2.06.94-2.06 2.06-.94-2.06-.94-.94-2.06-.94 2.06-2.06.94z\"/><path d=\"M17.41 7.96l-1.37-1.37c-.4-.4-.92-.59-1.43-.59-.52 0-1.04.2-1.43.59L10.3 9.45l-7.72 7.72c-.78.78-.78 2.05 0 2.83L4 21.41c.39.39.9.59 1.41.59.51 0 1.02-.2 1.41-.59l7.78-7.78 2.81-2.81c.8-.78.8-2.07 0-2.86zM5.41 20L4 18.59l7.72-7.72 1.47 1.35L5.41 20z\"/>\n",
              "  </svg>\n",
              "      </button>\n",
              "      \n",
              "  <style>\n",
              "    .colab-df-container {\n",
              "      display:flex;\n",
              "      flex-wrap:wrap;\n",
              "      gap: 12px;\n",
              "    }\n",
              "\n",
              "    .colab-df-convert {\n",
              "      background-color: #E8F0FE;\n",
              "      border: none;\n",
              "      border-radius: 50%;\n",
              "      cursor: pointer;\n",
              "      display: none;\n",
              "      fill: #1967D2;\n",
              "      height: 32px;\n",
              "      padding: 0 0 0 0;\n",
              "      width: 32px;\n",
              "    }\n",
              "\n",
              "    .colab-df-convert:hover {\n",
              "      background-color: #E2EBFA;\n",
              "      box-shadow: 0px 1px 2px rgba(60, 64, 67, 0.3), 0px 1px 3px 1px rgba(60, 64, 67, 0.15);\n",
              "      fill: #174EA6;\n",
              "    }\n",
              "\n",
              "    [theme=dark] .colab-df-convert {\n",
              "      background-color: #3B4455;\n",
              "      fill: #D2E3FC;\n",
              "    }\n",
              "\n",
              "    [theme=dark] .colab-df-convert:hover {\n",
              "      background-color: #434B5C;\n",
              "      box-shadow: 0px 1px 3px 1px rgba(0, 0, 0, 0.15);\n",
              "      filter: drop-shadow(0px 1px 2px rgba(0, 0, 0, 0.3));\n",
              "      fill: #FFFFFF;\n",
              "    }\n",
              "  </style>\n",
              "\n",
              "      <script>\n",
              "        const buttonEl =\n",
              "          document.querySelector('#df-c34f2302-9559-4591-83e6-bd94e1de5755 button.colab-df-convert');\n",
              "        buttonEl.style.display =\n",
              "          google.colab.kernel.accessAllowed ? 'block' : 'none';\n",
              "\n",
              "        async function convertToInteractive(key) {\n",
              "          const element = document.querySelector('#df-c34f2302-9559-4591-83e6-bd94e1de5755');\n",
              "          const dataTable =\n",
              "            await google.colab.kernel.invokeFunction('convertToInteractive',\n",
              "                                                     [key], {});\n",
              "          if (!dataTable) return;\n",
              "\n",
              "          const docLinkHtml = 'Like what you see? Visit the ' +\n",
              "            '<a target=\"_blank\" href=https://colab.research.google.com/notebooks/data_table.ipynb>data table notebook</a>'\n",
              "            + ' to learn more about interactive tables.';\n",
              "          element.innerHTML = '';\n",
              "          dataTable['output_type'] = 'display_data';\n",
              "          await google.colab.output.renderOutput(dataTable, element);\n",
              "          const docLink = document.createElement('div');\n",
              "          docLink.innerHTML = docLinkHtml;\n",
              "          element.appendChild(docLink);\n",
              "        }\n",
              "      </script>\n",
              "    </div>\n",
              "  </div>\n",
              "  "
            ]
          },
          "metadata": {},
          "execution_count": 32
        }
      ]
    },
    {
      "cell_type": "markdown",
      "source": [
        "### 第三步，使用sklearn套件來做線性迴歸模型的訓練和預測"
      ],
      "metadata": {
        "id": "NUAxDedRIAGZ"
      }
    },
    {
      "cell_type": "markdown",
      "source": [
        "開始訓練之前，要特別注意股價資料使用上，我們應該是只能拿前一天或歷史的股價資訊，來預測當下或是未來的股價。因此，我們這邊就不使用train_test_split( )函數，因為此函數是用來**隨機劃分**樣本數據成訓練集和測試集；而這有可能落入時間的謬誤裡面！（意即提前使用未來的資料）。\n"
      ],
      "metadata": {
        "id": "fuZYdm4uucIq"
      }
    },
    {
      "cell_type": "markdown",
      "source": [
        "#### 首先我們先將要用來訓練、測試的 X, y 準備好，這邊我們用 80% 做訓練期，20%做測試期"
      ],
      "metadata": {
        "id": "3tnECfhyJG6V"
      }
    },
    {
      "cell_type": "code",
      "source": [
        "def train_test_split(data,train_period = 0.8 ,train_or_test = True): # get train data: train_or_test=True, else: train_or_test=False\n",
        "    if train_or_test == True:\n",
        "        length = len(data.index)      \n",
        "        tlength =int(length*train_period)  \n",
        "        traindata = data.head(tlength)\n",
        "        return traindata\n",
        "        \n",
        "    elif train_or_test == False:\n",
        "        test_period = - train_period\n",
        "        length2 = len(data.index)     \n",
        "        tlength2 =int(length2*test_period)  \n",
        "  \n",
        "        testdata = data.tail(tlength2)\n",
        "\n",
        "        return testdata"
      ],
      "metadata": {
        "id": "A0J5SqV2Jr3G"
      },
      "execution_count": 37,
      "outputs": []
    },
    {
      "cell_type": "code",
      "source": [
        "train = train_test_split(stock) #train data\n",
        "test = train_test_split(stock,train_or_test = False) #test data\n",
        "time_split = stock.index[len(train)]\n",
        "#test data\n",
        "X_train = train[['Open','High','Low','Volume']] #features\n",
        "y_train = train['Adj Close'].values.reshape(-1,1) #target\n",
        "#train data\n",
        "X_test = test[['Open','High','Low','Volume']]\n",
        "y_test = test['Adj Close'].values.reshape(-1,1)"
      ],
      "metadata": {
        "id": "qG7ZhZzhJsD-"
      },
      "execution_count": 93,
      "outputs": []
    },
    {
      "cell_type": "markdown",
      "source": [
        "#### 再來建立線性迴歸模型，並且訓練模型，預測未來股價！"
      ],
      "metadata": {
        "id": "Vqj-LWfLJjNk"
      }
    },
    {
      "cell_type": "code",
      "source": [
        "# 建立線性迴歸模型\n",
        "regr = LinearRegression()\n",
        "#訓練模型\n",
        "regr.fit(X_train, y_train)\n",
        "\n",
        "#將訓練好的模型，用來做預測\n",
        "trainings = regr.predict(X_train).reshape(-1,1)\n",
        "predictions = regr.predict(X_test).reshape(-1,1)\n",
        "\n",
        "### 將預測結果合在一起\n",
        "all_pred = np.concatenate((trainings, predictions), axis=0)\n",
        "\n",
        "### 計算方均根差\n",
        "train_rmse = np.sqrt(1/X_train.shape[0]*np.squeeze(np.dot((trainings - y_train).T, (trainings - y_train))))\n",
        "test_rmse = np.sqrt(1/X_test.shape[0]*np.squeeze(np.dot((predictions - y_test).T, (predictions - y_test))))\n",
        "\n",
        "#評估模型好壞\n",
        "print(\"Training RMSE is: %f\" % train_rmse)\n",
        "print(\"Testing RMSE is: %f\" % test_rmse)"
      ],
      "metadata": {
        "colab": {
          "base_uri": "https://localhost:8080/"
        },
        "id": "zC3eQt63gUIG",
        "outputId": "ebc93eb0-c49b-4b5b-e5c7-a05322b0d359"
      },
      "execution_count": 58,
      "outputs": [
        {
          "output_type": "stream",
          "name": "stdout",
          "text": [
            "Training RMSE is: 3.638333\n",
            "Testing RMSE is: 5.639662\n"
          ]
        }
      ]
    },
    {
      "cell_type": "markdown",
      "source": [
        "RMSE可以評價數據的變化程度，RMSE的值越小，說明預測模型描述實驗數據具有更好的精確度。  \n",
        "可以看到訓練資料的方均根差大約是3.64，而測試資料的方均根差偏高約是5.64。"
      ],
      "metadata": {
        "id": "78VuFSnd_d0s"
      }
    },
    {
      "cell_type": "markdown",
      "source": [
        "#### 最後，將模型訓練結果作圖，看看效果如何。"
      ],
      "metadata": {
        "id": "C1vzB511JwUZ"
      }
    },
    {
      "cell_type": "code",
      "source": [
        "# 將預測和真實的股價，放進 df_linear 以便做圖\n",
        "df_linear = pd.DataFrame(all_pred, columns=['Linear Adj Close'], index=stock.index)\n",
        "df_linear['Adj Close'] = stock['Adj Close']\n",
        " "
      ],
      "metadata": {
        "id": "XqyeN9CEJ3bc"
      },
      "execution_count": 77,
      "outputs": []
    },
    {
      "cell_type": "code",
      "source": [
        "# 畫出結果\n",
        "df_linear.plot(figsize=(16,8), title='Linear Adj Close', grid=True, legend=True, color=['orange','blue'])\n",
        "plt.axvline(pd.Timestamp(time_split),linestyle ='--',color='r')"
      ],
      "metadata": {
        "colab": {
          "base_uri": "https://localhost:8080/",
          "height": 506
        },
        "id": "IhlvUl1axuoN",
        "outputId": "8f8a481c-64f6-4bc4-8955-ac2d68ab88c8"
      },
      "execution_count": 89,
      "outputs": [
        {
          "output_type": "execute_result",
          "data": {
            "text/plain": [
              "<matplotlib.lines.Line2D at 0x7f4d914c5750>"
            ]
          },
          "metadata": {},
          "execution_count": 89
        },
        {
          "output_type": "display_data",
          "data": {
            "text/plain": [
              "<Figure size 1152x576 with 1 Axes>"
            ],
            "image/png": "[encoded data removed]"
          },
          "metadata": {
            "needs_background": "light"
          }
        }
      ]
    },
    {
      "cell_type": "markdown",
      "source": [
        "從圖上可以看到，橘色線是我們線性迴歸模型預測的結果。\n",
        "在紅色直線時間點之前，是有參與訓練的資料，看起來和真實資料藍色線較為靠近。\n",
        "而紅色直線時間點之後，是完全沒參與訓練，只用來做測試的資料，雖然較為偏離藍色線，但是可以觀察到趨勢竟然跟真實股價還蠻接近的。\n",
        "* 註：在預測時沒有考慮到漲跌停的因素，所以我們可以發現預測結果的漲跌幅度比真實數據要大。"
      ],
      "metadata": {
        "id": "4H9UaQQEJ9cU"
      }
    }
  ]
}